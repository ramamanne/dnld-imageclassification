{
 "cells": [
  {
   "cell_type": "markdown",
   "metadata": {
    "collapsed": true
   },
   "source": [
    "# Image Classification\n",
    "In this project, you'll classify images from the [CIFAR-10 dataset](https://www.cs.toronto.edu/~kriz/cifar.html).  The dataset consists of airplanes, dogs, cats, and other objects. You'll preprocess the images, then train a convolutional neural network on all the samples. The images need to be normalized and the labels need to be one-hot encoded.  You'll get to apply what you learned and build a convolutional, max pooling, dropout, and fully connected layers.  At the end, you'll get to see your neural network's predictions on the sample images.\n",
    "## Get the Data\n",
    "Run the following cell to download the [CIFAR-10 dataset for python](https://www.cs.toronto.edu/~kriz/cifar-10-python.tar.gz)."
   ]
  },
  {
   "cell_type": "code",
   "execution_count": 1,
   "metadata": {},
   "outputs": [
    {
     "name": "stdout",
     "output_type": "stream",
     "text": [
      "All files found!\n"
     ]
    }
   ],
   "source": [
    "\"\"\"\n",
    "DON'T MODIFY ANYTHING IN THIS CELL THAT IS BELOW THIS LINE\n",
    "\"\"\"\n",
    "from urllib.request import urlretrieve\n",
    "from os.path import isfile, isdir\n",
    "from tqdm import tqdm\n",
    "import problem_unittests as tests\n",
    "import tarfile\n",
    "\n",
    "cifar10_dataset_folder_path = 'cifar-10-batches-py'\n",
    "\n",
    "# Use Floyd's cifar-10 dataset if present\n",
    "floyd_cifar10_location = '/input/cifar-10/python.tar.gz'\n",
    "if isfile(floyd_cifar10_location):\n",
    "    tar_gz_path = floyd_cifar10_location\n",
    "else:\n",
    "    tar_gz_path = 'cifar-10-python.tar.gz'\n",
    "\n",
    "class DLProgress(tqdm):\n",
    "    last_block = 0\n",
    "\n",
    "    def hook(self, block_num=1, block_size=1, total_size=None):\n",
    "        self.total = total_size\n",
    "        self.update((block_num - self.last_block) * block_size)\n",
    "        self.last_block = block_num\n",
    "\n",
    "if not isfile(tar_gz_path):\n",
    "    with DLProgress(unit='B', unit_scale=True, miniters=1, desc='CIFAR-10 Dataset') as pbar:\n",
    "        urlretrieve(\n",
    "            'https://www.cs.toronto.edu/~kriz/cifar-10-python.tar.gz',\n",
    "            tar_gz_path,\n",
    "            pbar.hook)\n",
    "\n",
    "if not isdir(cifar10_dataset_folder_path):\n",
    "    with tarfile.open(tar_gz_path) as tar:\n",
    "        tar.extractall()\n",
    "        tar.close()\n",
    "\n",
    "\n",
    "tests.test_folder_path(cifar10_dataset_folder_path)"
   ]
  },
  {
   "cell_type": "markdown",
   "metadata": {},
   "source": [
    "## Explore the Data\n",
    "The dataset is broken into batches to prevent your machine from running out of memory.  The CIFAR-10 dataset consists of 5 batches, named `data_batch_1`, `data_batch_2`, etc.. Each batch contains the labels and images that are one of the following:\n",
    "* airplane\n",
    "* automobile\n",
    "* bird\n",
    "* cat\n",
    "* deer\n",
    "* dog\n",
    "* frog\n",
    "* horse\n",
    "* ship\n",
    "* truck\n",
    "\n",
    "Understanding a dataset is part of making predictions on the data.  Play around with the code cell below by changing the `batch_id` and `sample_id`. The `batch_id` is the id for a batch (1-5). The `sample_id` is the id for a image and label pair in the batch.\n",
    "\n",
    "Ask yourself \"What are all possible labels?\", \"What is the range of values for the image data?\", \"Are the labels in order or random?\".  Answers to questions like these will help you preprocess the data and end up with better predictions."
   ]
  },
  {
   "cell_type": "code",
   "execution_count": 3,
   "metadata": {},
   "outputs": [
    {
     "name": "stdout",
     "output_type": "stream",
     "text": [
      "\n",
      "Stats of batch 1:\n",
      "Samples: 10000\n",
      "Label Counts: {0: 1005, 1: 974, 2: 1032, 3: 1016, 4: 999, 5: 937, 6: 1030, 7: 1001, 8: 1025, 9: 981}\n",
      "First 20 Labels: [6, 9, 9, 4, 1, 1, 2, 7, 8, 3, 4, 7, 7, 2, 9, 9, 9, 3, 2, 6]\n",
      "\n",
      "Example of Image 5:\n",
      "Image - Min Value: 0 Max Value: 252\n",
      "Image - Shape: (32, 32, 3)\n",
      "Label - Label Id: 1 Name: automobile\n"
     ]
    },
    {
     "data": {
      "image/png": "[encoded data removed]",
      "text/plain": [
       "<matplotlib.figure.Figure at 0x7fb65104ca90>"
      ]
     },
     "metadata": {
      "image/png": {
       "height": 250,
       "width": 253
      }
     },
     "output_type": "display_data"
    }
   ],
   "source": [
    "%matplotlib inline\n",
    "%config InlineBackend.figure_format = 'retina'\n",
    "\n",
    "import helper\n",
    "import numpy as np\n",
    "\n",
    "# Explore the dataset\n",
    "batch_id = 1\n",
    "sample_id = 5\n",
    "helper.display_stats(cifar10_dataset_folder_path, batch_id, sample_id)"
   ]
  },
  {
   "cell_type": "markdown",
   "metadata": {},
   "source": [
    "## Implement Preprocess Functions\n",
    "### Normalize\n",
    "In the cell below, implement the `normalize` function to take in image data, `x`, and return it as a normalized Numpy array. The values should be in the range of 0 to 1, inclusive.  The return object should be the same shape as `x`."
   ]
  },
  {
   "cell_type": "code",
   "execution_count": 4,
   "metadata": {},
   "outputs": [
    {
     "name": "stdout",
     "output_type": "stream",
     "text": [
      "Tests Passed\n"
     ]
    }
   ],
   "source": [
    "def normalize(x):\n",
    "    \"\"\"\n",
    "    Normalize a list of sample image data in the range of 0 to 1\n",
    "    : x: List of image data.  The image shape is (32, 32, 3)\n",
    "    : return: Numpy array of normalize data\n",
    "    \"\"\"\n",
    "    # TODO: Implement Function\n",
    "    a = 0.1\n",
    "    b = 1.0\n",
    "    grayscale_minimun = 0\n",
    "    grayscale_maximum = 255\n",
    "    return a + ( ( (x - grayscale_minimun)*(b - a) )/( grayscale_maximum - grayscale_minimun ) )\n",
    "\n",
    "\n",
    "\"\"\"\n",
    "DON'T MODIFY ANYTHING IN THIS CELL THAT IS BELOW THIS LINE\n",
    "\"\"\"\n",
    "tests.test_normalize(normalize)"
   ]
  },
  {
   "cell_type": "markdown",
   "metadata": {},
   "source": [
    "### One-hot encode\n",
    "Just like the previous code cell, you'll be implementing a function for preprocessing.  This time, you'll implement the `one_hot_encode` function. The input, `x`, are a list of labels.  Implement the function to return the list of labels as One-Hot encoded Numpy array.  The possible values for labels are 0 to 9. The one-hot encoding function should return the same encoding for each value between each call to `one_hot_encode`.  Make sure to save the map of encodings outside the function.\n",
    "\n",
    "Hint: Don't reinvent the wheel."
   ]
  },
  {
   "cell_type": "code",
   "execution_count": 5,
   "metadata": {},
   "outputs": [
    {
     "name": "stdout",
     "output_type": "stream",
     "text": [
      "Tests Passed\n"
     ]
    }
   ],
   "source": [
    "from sklearn import preprocessing\n",
    "\n",
    "def one_hot_encode(x):\n",
    "    \"\"\"\n",
    "    One hot encode a list of sample labels. Return a one-hot encoded vector for each label.\n",
    "    : x: List of sample Labels\n",
    "    : return: Numpy array of one-hot encoded labels\n",
    "    \"\"\"\n",
    "    # TODO: Implement Function\n",
    "    labels = np.array(x)\n",
    "    lb = preprocessing.LabelBinarizer()\n",
    "    lb.fit(labels)\n",
    "    lb.classes_ = [0, 1, 2, 3, 4, 5, 6, 7, 8, 9]\n",
    "    y = lb.transform(labels)\n",
    "    return y\n",
    "\n",
    "\n",
    "\"\"\"\n",
    "DON'T MODIFY ANYTHING IN THIS CELL THAT IS BELOW THIS LINE\n",
    "\"\"\"\n",
    "tests.test_one_hot_encode(one_hot_encode)"
   ]
  },
  {
   "cell_type": "markdown",
   "metadata": {},
   "source": [
    "### Randomize Data\n",
    "As you saw from exploring the data above, the order of the samples are randomized.  It doesn't hurt to randomize it again, but you don't need to for this dataset."
   ]
  },
  {
   "cell_type": "markdown",
   "metadata": {},
   "source": [
    "## Preprocess all the data and save it\n",
    "Running the code cell below will preprocess all the CIFAR-10 data and save it to file. The code below also uses 10% of the training data for validation."
   ]
  },
  {
   "cell_type": "code",
   "execution_count": 6,
   "metadata": {
    "collapsed": true
   },
   "outputs": [],
   "source": [
    "\"\"\"\n",
    "DON'T MODIFY ANYTHING IN THIS CELL\n",
    "\"\"\"\n",
    "# Preprocess Training, Validation, and Testing Data\n",
    "helper.preprocess_and_save_data(cifar10_dataset_folder_path, normalize, one_hot_encode)"
   ]
  },
  {
   "cell_type": "markdown",
   "metadata": {},
   "source": [
    "# Check Point\n",
    "This is your first checkpoint.  If you ever decide to come back to this notebook or have to restart the notebook, you can start from here.  The preprocessed data has been saved to disk."
   ]
  },
  {
   "cell_type": "code",
   "execution_count": 7,
   "metadata": {
    "collapsed": true
   },
   "outputs": [],
   "source": [
    "\"\"\"\n",
    "DON'T MODIFY ANYTHING IN THIS CELL\n",
    "\"\"\"\n",
    "import pickle\n",
    "import problem_unittests as tests\n",
    "import helper\n",
    "\n",
    "# Load the Preprocessed Validation data\n",
    "valid_features, valid_labels = pickle.load(open('preprocess_validation.p', mode='rb'))"
   ]
  },
  {
   "cell_type": "markdown",
   "metadata": {},
   "source": [
    "## Build the network\n",
    "For the neural network, you'll build each layer into a function.  Most of the code you've seen has been outside of functions. To test your code more thoroughly, we require that you put each layer in a function.  This allows us to give you better feedback and test for simple mistakes using our unittests before you submit your project.\n",
    "\n",
    ">**Note:** If you're finding it hard to dedicate enough time for this course each week, we've provided a small shortcut to this part of the project. In the next couple of problems, you'll have the option to use classes from the [TensorFlow Layers](https://www.tensorflow.org/api_docs/python/tf/layers) or [TensorFlow Layers (contrib)](https://www.tensorflow.org/api_guides/python/contrib.layers) packages to build each layer, except the layers you build in the \"Convolutional and Max Pooling Layer\" section.  TF Layers is similar to Keras's and TFLearn's abstraction to layers, so it's easy to pickup.\n",
    "\n",
    ">However, if you would like to get the most out of this course, try to solve all the problems _without_ using anything from the TF Layers packages. You **can** still use classes from other packages that happen to have the same name as ones you find in TF Layers! For example, instead of using the TF Layers version of the `conv2d` class, [tf.layers.conv2d](https://www.tensorflow.org/api_docs/python/tf/layers/conv2d), you would want to use the TF Neural Network version of `conv2d`, [tf.nn.conv2d](https://www.tensorflow.org/api_docs/python/tf/nn/conv2d). \n",
    "\n",
    "Let's begin!\n",
    "\n",
    "### Input\n",
    "The neural network needs to read the image data, one-hot encoded labels, and dropout keep probability. Implement the following functions\n",
    "* Implement `neural_net_image_input`\n",
    " * Return a [TF Placeholder](https://www.tensorflow.org/api_docs/python/tf/placeholder)\n",
    " * Set the shape using `image_shape` with batch size set to `None`.\n",
    " * Name the TensorFlow placeholder \"x\" using the TensorFlow `name` parameter in the [TF Placeholder](https://www.tensorflow.org/api_docs/python/tf/placeholder).\n",
    "* Implement `neural_net_label_input`\n",
    " * Return a [TF Placeholder](https://www.tensorflow.org/api_docs/python/tf/placeholder)\n",
    " * Set the shape using `n_classes` with batch size set to `None`.\n",
    " * Name the TensorFlow placeholder \"y\" using the TensorFlow `name` parameter in the [TF Placeholder](https://www.tensorflow.org/api_docs/python/tf/placeholder).\n",
    "* Implement `neural_net_keep_prob_input`\n",
    " * Return a [TF Placeholder](https://www.tensorflow.org/api_docs/python/tf/placeholder) for dropout keep probability.\n",
    " * Name the TensorFlow placeholder \"keep_prob\" using the TensorFlow `name` parameter in the [TF Placeholder](https://www.tensorflow.org/api_docs/python/tf/placeholder).\n",
    "\n",
    "These names will be used at the end of the project to load your saved model.\n",
    "\n",
    "Note: `None` for shapes in TensorFlow allow for a dynamic size."
   ]
  },
  {
   "cell_type": "code",
   "execution_count": 8,
   "metadata": {},
   "outputs": [
    {
     "name": "stdout",
     "output_type": "stream",
     "text": [
      "Image Input Tests Passed.\n",
      "Label Input Tests Passed.\n",
      "Keep Prob Tests Passed.\n"
     ]
    }
   ],
   "source": [
    "import tensorflow as tf\n",
    "\n",
    "def neural_net_image_input(image_shape):\n",
    "    \"\"\"\n",
    "    Return a Tensor for a batch of image input\n",
    "    : image_shape: Shape of the images\n",
    "    : return: Tensor for image input.\n",
    "    \"\"\"\n",
    "    # TODO: Implement Function\n",
    "    return tf.placeholder(tf.float32,[None] +list(image_shape),\"x\")\n",
    "\n",
    "\n",
    "def neural_net_label_input(n_classes):\n",
    "    \"\"\"\n",
    "    Return a Tensor for a batch of label input\n",
    "    : n_classes: Number of classes\n",
    "    : return: Tensor for label input.\n",
    "    \"\"\"\n",
    "    # TODO: Implement Function\n",
    "    return  tf.placeholder(tf.float32,[None,n_classes ],\"y\")\n",
    "\n",
    "\n",
    "def neural_net_keep_prob_input():\n",
    "    \"\"\"\n",
    "    Return a Tensor for keep probability\n",
    "    : return: Tensor for keep probability.\n",
    "    \"\"\"\n",
    "    # TODO: Implement Function\n",
    "    return  tf.placeholder(tf.float32,None,\"keep_prob\")\n",
    "\n",
    "\n",
    "\"\"\"\n",
    "DON'T MODIFY ANYTHING IN THIS CELL THAT IS BELOW THIS LINE\n",
    "\"\"\"\n",
    "tf.reset_default_graph()\n",
    "tests.test_nn_image_inputs(neural_net_image_input)\n",
    "tests.test_nn_label_inputs(neural_net_label_input)\n",
    "tests.test_nn_keep_prob_inputs(neural_net_keep_prob_input)"
   ]
  },
  {
   "cell_type": "markdown",
   "metadata": {},
   "source": [
    "### Convolution and Max Pooling Layer\n",
    "Convolution layers have a lot of success with images. For this code cell, you should implement the function `conv2d_maxpool` to apply convolution then max pooling:\n",
    "* Create the weight and bias using `conv_ksize`, `conv_num_outputs` and the shape of `x_tensor`.\n",
    "* Apply a convolution to `x_tensor` using weight and `conv_strides`.\n",
    " * We recommend you use same padding, but you're welcome to use any padding.\n",
    "* Add bias\n",
    "* Add a nonlinear activation to the convolution.\n",
    "* Apply Max Pooling using `pool_ksize` and `pool_strides`.\n",
    " * We recommend you use same padding, but you're welcome to use any padding.\n",
    "\n",
    "**Note:** You **can't** use [TensorFlow Layers](https://www.tensorflow.org/api_docs/python/tf/layers) or [TensorFlow Layers (contrib)](https://www.tensorflow.org/api_guides/python/contrib.layers) for **this** layer, but you can still use TensorFlow's [Neural Network](https://www.tensorflow.org/api_docs/python/tf/nn) package. You may still use the shortcut option for all the **other** layers."
   ]
  },
  {
   "cell_type": "code",
   "execution_count": 9,
   "metadata": {},
   "outputs": [
    {
     "name": "stdout",
     "output_type": "stream",
     "text": [
      "[None, 32, 32, 5]\n",
      "Tests Passed\n"
     ]
    }
   ],
   "source": [
    "def conv2d_maxpool(x_tensor, conv_num_outputs, conv_ksize, conv_strides, pool_ksize, pool_strides):\n",
    "    \"\"\"\n",
    "    Apply convolution then max pooling to x_tensor\n",
    "    :param x_tensor: TensorFlow Tensor\n",
    "    :param conv_num_outputs: Number of outputs for the convolutional layer\n",
    "    :param conv_ksize: kernal size 2-D Tuple for the convolutional layer\n",
    "    :param conv_strides: Stride 2-D Tuple for convolution\n",
    "    :param pool_ksize: kernal size 2-D Tuple for pool\n",
    "    :param pool_strides: Stride 2-D Tuple for pool\n",
    "    : return: A tensor that represents convolution and max pooling of x_tensor\n",
    "    \"\"\"\n",
    "    # TODO: Implement Function\n",
    "    print(x_tensor.get_shape().as_list())\n",
    "    weights = tf.Variable(tf.truncated_normal([conv_strides[0],conv_ksize[0],x_tensor.get_shape().as_list()[3],conv_num_outputs], stddev=0.1))\n",
    "    \n",
    "    bias = tf.Variable(tf.zeros(conv_num_outputs))\n",
    "    \n",
    "    conv_layer = tf.nn.conv2d(x_tensor, weights, strides=[1, conv_strides[0], conv_strides[1], 1], padding='SAME')\n",
    "    \n",
    "    conv_layer = tf.nn.bias_add(conv_layer, bias)\n",
    "    \n",
    "    conv_layer = tf.nn.relu(conv_layer)\n",
    "\n",
    "    conv_layer = tf.nn.max_pool(\n",
    "        conv_layer,\n",
    "        [1, pool_ksize[0], pool_ksize[1], 1],\n",
    "        [1, pool_strides[0], pool_strides[1], 1],\n",
    "        'SAME')\n",
    "\n",
    "    return conv_layer \n",
    "\n",
    "\n",
    "\"\"\"\n",
    "DON'T MODIFY ANYTHING IN THIS CELL THAT IS BELOW THIS LINE\n",
    "\"\"\"\n",
    "tests.test_con_pool(conv2d_maxpool)"
   ]
  },
  {
   "cell_type": "markdown",
   "metadata": {},
   "source": [
    "### Flatten Layer\n",
    "Implement the `flatten` function to change the dimension of `x_tensor` from a 4-D tensor to a 2-D tensor.  The output should be the shape (*Batch Size*, *Flattened Image Size*). Shortcut option: you can use classes from the [TensorFlow Layers](https://www.tensorflow.org/api_docs/python/tf/layers) or [TensorFlow Layers (contrib)](https://www.tensorflow.org/api_guides/python/contrib.layers) packages for this layer. For more of a challenge, only use other TensorFlow packages."
   ]
  },
  {
   "cell_type": "code",
   "execution_count": 12,
   "metadata": {},
   "outputs": [
    {
     "name": "stdout",
     "output_type": "stream",
     "text": [
      "Tests Passed\n"
     ]
    }
   ],
   "source": [
    "def flatten(x_tensor):\n",
    "    \"\"\"\n",
    "    Flatten x_tensor to (Batch Size, Flattened Image Size)\n",
    "    : x_tensor: A tensor of size (Batch Size, ...), where ... are the image dimensions.\n",
    "    : return: A tensor of size (Batch Size, Flattened Image Size).\n",
    "    \"\"\"\n",
    "    # TODO: Implement Function\n",
    "    return tf.contrib.layers.flatten(x_tensor)\n",
    "\n",
    "\n",
    "\n",
    "\"\"\"\n",
    "DON'T MODIFY ANYTHING IN THIS CELL THAT IS BELOW THIS LINE\n",
    "\"\"\"\n",
    "tests.test_flatten(flatten)"
   ]
  },
  {
   "cell_type": "markdown",
   "metadata": {},
   "source": [
    "### Fully-Connected Layer\n",
    "Implement the `fully_conn` function to apply a fully connected layer to `x_tensor` with the shape (*Batch Size*, *num_outputs*). Shortcut option: you can use classes from the [TensorFlow Layers](https://www.tensorflow.org/api_docs/python/tf/layers) or [TensorFlow Layers (contrib)](https://www.tensorflow.org/api_guides/python/contrib.layers) packages for this layer. For more of a challenge, only use other TensorFlow packages."
   ]
  },
  {
   "cell_type": "code",
   "execution_count": 13,
   "metadata": {},
   "outputs": [
    {
     "name": "stdout",
     "output_type": "stream",
     "text": [
      "Tests Passed\n"
     ]
    }
   ],
   "source": [
    "def fully_conn(x_tensor, num_outputs):\n",
    "    \"\"\"\n",
    "    Apply a fully connected layer to x_tensor using weight and bias\n",
    "    : x_tensor: A 2-D tensor where the first dimension is batch size.\n",
    "    : num_outputs: The number of output that the new tensor should be.\n",
    "    : return: A 2-D tensor where the second dimension is num_outputs.\n",
    "    \"\"\"\n",
    "    # TODO: Implement Function\n",
    "    weights = tf.Variable(tf.truncated_normal([x_tensor.get_shape().as_list()[1], num_outputs],stddev=0.1))\n",
    "    bias = tf.Variable(tf.zeros(num_outputs))\n",
    "    out = tf.add(tf.matmul(x_tensor, weights), bias)\n",
    "    \n",
    "    return tf.nn.relu(out)\n",
    "\n",
    "\"\"\"\n",
    "DON'T MODIFY ANYTHING IN THIS CELL THAT IS BELOW THIS LINE\n",
    "\"\"\"\n",
    "tests.test_fully_conn(fully_conn)"
   ]
  },
  {
   "cell_type": "markdown",
   "metadata": {},
   "source": [
    "### Output Layer\n",
    "Implement the `output` function to apply a fully connected layer to `x_tensor` with the shape (*Batch Size*, *num_outputs*). Shortcut option: you can use classes from the [TensorFlow Layers](https://www.tensorflow.org/api_docs/python/tf/layers) or [TensorFlow Layers (contrib)](https://www.tensorflow.org/api_guides/python/contrib.layers) packages for this layer. For more of a challenge, only use other TensorFlow packages.\n",
    "\n",
    "**Note:** Activation, softmax, or cross entropy should **not** be applied to this."
   ]
  },
  {
   "cell_type": "code",
   "execution_count": 14,
   "metadata": {},
   "outputs": [
    {
     "name": "stdout",
     "output_type": "stream",
     "text": [
      "Tests Passed\n"
     ]
    }
   ],
   "source": [
    "def output(x_tensor, num_outputs):\n",
    "    \"\"\"\n",
    "    Apply a output layer to x_tensor using weight and bias\n",
    "    : x_tensor: A 2-D tensor where the first dimension is batch size.\n",
    "    : num_outputs: The number of output that the new tensor should be.\n",
    "    : return: A 2-D tensor where the second dimension is num_outputs.\n",
    "    \"\"\"\n",
    "    # TODO: Implement Function\n",
    "    weights = tf.Variable(tf.truncated_normal([x_tensor.get_shape().as_list()[1], num_outputs],stddev=0.01))\n",
    "    bias = tf.Variable(tf.zeros(num_outputs))\n",
    "    \n",
    "    return  tf.add(tf.matmul(x_tensor, weights), bias)\n",
    "\n",
    "\n",
    "\"\"\"\n",
    "DON'T MODIFY ANYTHING IN THIS CELL THAT IS BELOW THIS LINE\n",
    "\"\"\"\n",
    "tests.test_output(output)"
   ]
  },
  {
   "cell_type": "markdown",
   "metadata": {},
   "source": [
    "### Create Convolutional Model\n",
    "Implement the function `conv_net` to create a convolutional neural network model. The function takes in a batch of images, `x`, and outputs logits.  Use the layers you created above to create this model:\n",
    "\n",
    "* Apply 1, 2, or 3 Convolution and Max Pool layers\n",
    "* Apply a Flatten Layer\n",
    "* Apply 1, 2, or 3 Fully Connected Layers\n",
    "* Apply an Output Layer\n",
    "* Return the output\n",
    "* Apply [TensorFlow's Dropout](https://www.tensorflow.org/api_docs/python/tf/nn/dropout) to one or more layers in the model using `keep_prob`. "
   ]
  },
  {
   "cell_type": "code",
   "execution_count": 15,
   "metadata": {},
   "outputs": [
    {
     "name": "stdout",
     "output_type": "stream",
     "text": [
      "[None, 32, 32, 3]\n",
      "[None, 16, 16, 16]\n",
      "[None, 32, 32, 3]\n",
      "[None, 16, 16, 16]\n",
      "Neural Network Built!\n"
     ]
    }
   ],
   "source": [
    "def conv_net(x, keep_prob):\n",
    "    \"\"\"\n",
    "    Create a convolutional neural network model\n",
    "    : x: Placeholder tensor that holds image data.\n",
    "    : keep_prob: Placeholder tensor that hold dropout keep probability.\n",
    "    : return: Tensor that represents logits\n",
    "    \"\"\"\n",
    "    # TODO: Apply 1, 2, or 3 Convolution and Max Pool layers\n",
    "    #    Play around with different number of outputs, kernel size and stride\n",
    "    # Function Definition from Above:\n",
    "    #    conv2d_maxpool(x_tensor, conv_num_outputs, conv_ksize, conv_strides, pool_ksize, pool_strides)\n",
    "    \n",
    "    conv1 = conv2d_maxpool(x,16,(5,5),(2,2),(4,4),(1,1))\n",
    "    conv2 = conv2d_maxpool(conv1,64,(2,2),(2,2),(2,2),(1,1))\n",
    "\n",
    "    # TODO: Apply a Flatten Layer\n",
    "    # Function Definition from Above:\n",
    "    #   flatten(x_tensor)\n",
    "    \n",
    "    x_tensor = flatten(conv2)\n",
    "\n",
    "    # TODO: Apply 1, 2, or 3 Fully Connected Layers\n",
    "    #    Play around with different number of outputs\n",
    "    # Function Definition from Above:\n",
    "    #   fully_conn(x_tensor, num_outputs)\n",
    "    x_tensor = fully_conn(x_tensor, 128)\n",
    "    x_tensor = tf.nn.dropout(x_tensor, keep_prob)\n",
    "\n",
    "\n",
    "    \n",
    "    # TODO: Apply an Output Layer\n",
    "    #    Set this to the number of classes\n",
    "    # Function Definition from Above:\n",
    "    #   output(x_tensor, num_outputs)\n",
    "    y = output(x_tensor, 10)\n",
    "\n",
    "    \n",
    "    # TODO: return output\n",
    "    return y\n",
    "\n",
    "\n",
    "\"\"\"\n",
    "DON'T MODIFY ANYTHING IN THIS CELL THAT IS BELOW THIS LINE\n",
    "\"\"\"\n",
    "\n",
    "##############################\n",
    "## Build the Neural Network ##\n",
    "##############################\n",
    "\n",
    "# Remove previous weights, bias, inputs, etc..\n",
    "tf.reset_default_graph()\n",
    "\n",
    "# Inputs\n",
    "x = neural_net_image_input((32, 32, 3))\n",
    "y = neural_net_label_input(10)\n",
    "keep_prob = neural_net_keep_prob_input()\n",
    "\n",
    "# Model\n",
    "logits = conv_net(x, keep_prob)\n",
    "\n",
    "# Name logits Tensor, so that is can be loaded from disk after training\n",
    "logits = tf.identity(logits, name='logits')\n",
    "\n",
    "# Loss and Optimizer\n",
    "cost = tf.reduce_mean(tf.nn.softmax_cross_entropy_with_logits(logits=logits, labels=y))\n",
    "optimizer = tf.train.AdamOptimizer().minimize(cost)\n",
    "\n",
    "# Accuracy\n",
    "correct_pred = tf.equal(tf.argmax(logits, 1), tf.argmax(y, 1))\n",
    "accuracy = tf.reduce_mean(tf.cast(correct_pred, tf.float32), name='accuracy')\n",
    "\n",
    "tests.test_conv_net(conv_net)"
   ]
  },
  {
   "cell_type": "markdown",
   "metadata": {},
   "source": [
    "## Train the Neural Network\n",
    "### Single Optimization\n",
    "Implement the function `train_neural_network` to do a single optimization.  The optimization should use `optimizer` to optimize in `session` with a `feed_dict` of the following:\n",
    "* `x` for image input\n",
    "* `y` for labels\n",
    "* `keep_prob` for keep probability for dropout\n",
    "\n",
    "This function will be called for each batch, so `tf.global_variables_initializer()` has already been called.\n",
    "\n",
    "Note: Nothing needs to be returned. This function is only optimizing the neural network."
   ]
  },
  {
   "cell_type": "code",
   "execution_count": 16,
   "metadata": {},
   "outputs": [
    {
     "name": "stdout",
     "output_type": "stream",
     "text": [
      "Tests Passed\n"
     ]
    }
   ],
   "source": [
    "def train_neural_network(session, optimizer, keep_probability, feature_batch, label_batch):\n",
    "    \"\"\"\n",
    "    Optimize the session on a batch of images and labels\n",
    "    : session: Current TensorFlow session\n",
    "    : optimizer: TensorFlow optimizer function\n",
    "    : keep_probability: keep probability\n",
    "    : feature_batch: Batch of Numpy image data\n",
    "    : label_batch: Batch of Numpy label data\n",
    "    \"\"\"\n",
    "    # TODO: Implement Function\n",
    "    session.run(optimizer, feed_dict={x: feature_batch,y: label_batch,keep_prob: keep_probability})\n",
    "\n",
    "\n",
    "\n",
    "\"\"\"\n",
    "DON'T MODIFY ANYTHING IN THIS CELL THAT IS BELOW THIS LINE\n",
    "\"\"\"\n",
    "tests.test_train_nn(train_neural_network)"
   ]
  },
  {
   "cell_type": "markdown",
   "metadata": {},
   "source": [
    "### Show Stats\n",
    "Implement the function `print_stats` to print loss and validation accuracy.  Use the global variables `valid_features` and `valid_labels` to calculate validation accuracy.  Use a keep probability of `1.0` to calculate the loss and validation accuracy."
   ]
  },
  {
   "cell_type": "code",
   "execution_count": 17,
   "metadata": {
    "collapsed": true
   },
   "outputs": [],
   "source": [
    "def print_stats(session, feature_batch, label_batch, cost, accuracy):\n",
    "    \"\"\"\n",
    "    Print information about loss and validation accuracy\n",
    "    : session: Current TensorFlow session\n",
    "    : feature_batch: Batch of Numpy image data\n",
    "    : label_batch: Batch of Numpy label data\n",
    "    : cost: TensorFlow cost function\n",
    "    : accuracy: TensorFlow accuracy function\n",
    "    \"\"\"\n",
    "    # TODO: Implement Function\n",
    "    \n",
    "    loss = sess.run(cost, feed_dict={x: feature_batch,y: label_batch,keep_prob: 1.0})\n",
    "    acc = sess.run(accuracy, feed_dict={x: valid_features,y: valid_labels,keep_prob: 1.0})\n",
    "    print('validation accuracy {}'.format(acc),'loss {}'.format(loss))\n",
    "    "
   ]
  },
  {
   "cell_type": "markdown",
   "metadata": {},
   "source": [
    "### Hyperparameters\n",
    "Tune the following parameters:\n",
    "* Set `epochs` to the number of iterations until the network stops learning or start overfitting\n",
    "* Set `batch_size` to the highest number that your machine has memory for.  Most people set them to common sizes of memory:\n",
    " * 64\n",
    " * 128\n",
    " * 256\n",
    " * ...\n",
    "* Set `keep_probability` to the probability of keeping a node using dropout"
   ]
  },
  {
   "cell_type": "code",
   "execution_count": 18,
   "metadata": {
    "collapsed": true
   },
   "outputs": [],
   "source": [
    "# TODO: Tune Parameters\n",
    "epochs = 25\n",
    "batch_size = 256\n",
    "keep_probability = 0.8"
   ]
  },
  {
   "cell_type": "markdown",
   "metadata": {},
   "source": [
    "### Train on a Single CIFAR-10 Batch\n",
    "Instead of training the neural network on all the CIFAR-10 batches of data, let's use a single batch. This should save time while you iterate on the model to get a better accuracy.  Once the final validation accuracy is 50% or greater, run the model on all the data in the next section."
   ]
  },
  {
   "cell_type": "code",
   "execution_count": 19,
   "metadata": {},
   "outputs": [
    {
     "name": "stdout",
     "output_type": "stream",
     "text": [
      "Checking the Training on a Single Batch...\n",
      "Epoch  1, CIFAR-10 Batch 1:  validation accuracy 0.2513999938964844 loss 2.168475389480591\n",
      "Epoch  2, CIFAR-10 Batch 1:  validation accuracy 0.3325999975204468 loss 2.0642361640930176\n",
      "Epoch  3, CIFAR-10 Batch 1:  validation accuracy 0.3677999973297119 loss 1.927868366241455\n",
      "Epoch  4, CIFAR-10 Batch 1:  validation accuracy 0.39799994230270386 loss 1.7890558242797852\n",
      "Epoch  5, CIFAR-10 Batch 1:  validation accuracy 0.42139995098114014 loss 1.7010878324508667\n",
      "Epoch  6, CIFAR-10 Batch 1:  validation accuracy 0.44499996304512024 loss 1.5804375410079956\n",
      "Epoch  7, CIFAR-10 Batch 1:  validation accuracy 0.46299993991851807 loss 1.516573190689087\n",
      "Epoch  8, CIFAR-10 Batch 1:  validation accuracy 0.47119995951652527 loss 1.4433300495147705\n",
      "Epoch  9, CIFAR-10 Batch 1:  validation accuracy 0.4772000014781952 loss 1.3705191612243652\n",
      "Epoch 10, CIFAR-10 Batch 1:  validation accuracy 0.4873999357223511 loss 1.2944369316101074\n",
      "Epoch 11, CIFAR-10 Batch 1:  validation accuracy 0.4939999580383301 loss 1.2415239810943604\n",
      "Epoch 12, CIFAR-10 Batch 1:  validation accuracy 0.5065999627113342 loss 1.1702208518981934\n",
      "Epoch 13, CIFAR-10 Batch 1:  validation accuracy 0.5091999173164368 loss 1.1116912364959717\n",
      "Epoch 14, CIFAR-10 Batch 1:  validation accuracy 0.5153999328613281 loss 1.0489776134490967\n",
      "Epoch 15, CIFAR-10 Batch 1:  validation accuracy 0.5221999287605286 loss 1.0176331996917725\n",
      "Epoch 16, CIFAR-10 Batch 1:  validation accuracy 0.5289999842643738 loss 0.9418492913246155\n",
      "Epoch 17, CIFAR-10 Batch 1:  validation accuracy 0.531999945640564 loss 0.9076474905014038\n",
      "Epoch 18, CIFAR-10 Batch 1:  validation accuracy 0.5375999212265015 loss 0.8797446489334106\n",
      "Epoch 19, CIFAR-10 Batch 1:  validation accuracy 0.5423999428749084 loss 0.8073735237121582\n",
      "Epoch 20, CIFAR-10 Batch 1:  validation accuracy 0.5460000038146973 loss 0.7704464197158813\n",
      "Epoch 21, CIFAR-10 Batch 1:  validation accuracy 0.5397999286651611 loss 0.7450429201126099\n",
      "Epoch 22, CIFAR-10 Batch 1:  validation accuracy 0.550399899482727 loss 0.6902899742126465\n",
      "Epoch 23, CIFAR-10 Batch 1:  validation accuracy 0.5457999110221863 loss 0.6549739241600037\n",
      "Epoch 24, CIFAR-10 Batch 1:  validation accuracy 0.5555999279022217 loss 0.6241830587387085\n",
      "Epoch 25, CIFAR-10 Batch 1:  validation accuracy 0.5547999739646912 loss 0.5899372100830078\n"
     ]
    }
   ],
   "source": [
    "\"\"\"\n",
    "DON'T MODIFY ANYTHING IN THIS CELL\n",
    "\"\"\"\n",
    "print('Checking the Training on a Single Batch...')\n",
    "with tf.Session() as sess:\n",
    "    # Initializing the variables\n",
    "    sess.run(tf.global_variables_initializer())\n",
    "    \n",
    "    # Training cycle\n",
    "    for epoch in range(epochs):\n",
    "        batch_i = 1\n",
    "        for batch_features, batch_labels in helper.load_preprocess_training_batch(batch_i, batch_size):\n",
    "            train_neural_network(sess, optimizer, keep_probability, batch_features, batch_labels)\n",
    "        print('Epoch {:>2}, CIFAR-10 Batch {}:  '.format(epoch + 1, batch_i), end='')\n",
    "        print_stats(sess, batch_features, batch_labels, cost, accuracy)"
   ]
  },
  {
   "cell_type": "markdown",
   "metadata": {},
   "source": [
    "### Fully Train the Model\n",
    "Now that you got a good accuracy with a single CIFAR-10 batch, try it with all five batches."
   ]
  },
  {
   "cell_type": "code",
   "execution_count": 20,
   "metadata": {},
   "outputs": [
    {
     "name": "stdout",
     "output_type": "stream",
     "text": [
      "Training...\n",
      "Epoch  1, CIFAR-10 Batch 1:  validation accuracy 0.23419998586177826 loss 2.1403744220733643\n",
      "Epoch  1, CIFAR-10 Batch 2:  validation accuracy 0.34579998254776 loss 1.9403390884399414\n",
      "Epoch  1, CIFAR-10 Batch 3:  validation accuracy 0.38439998030662537 loss 1.554265022277832\n",
      "Epoch  1, CIFAR-10 Batch 4:  validation accuracy 0.42160001397132874 loss 1.625746726989746\n",
      "Epoch  1, CIFAR-10 Batch 5:  validation accuracy 0.43879997730255127 loss 1.5456597805023193\n",
      "Epoch  2, CIFAR-10 Batch 1:  validation accuracy 0.45159998536109924 loss 1.7785975933074951\n",
      "Epoch  2, CIFAR-10 Batch 2:  validation accuracy 0.45659998059272766 loss 1.5319201946258545\n",
      "Epoch  2, CIFAR-10 Batch 3:  validation accuracy 0.45139995217323303 loss 1.3053257465362549\n",
      "Epoch  2, CIFAR-10 Batch 4:  validation accuracy 0.4779999852180481 loss 1.4119727611541748\n",
      "Epoch  2, CIFAR-10 Batch 5:  validation accuracy 0.49379992485046387 loss 1.3840320110321045\n",
      "Epoch  3, CIFAR-10 Batch 1:  validation accuracy 0.5033999681472778 loss 1.5784344673156738\n",
      "Epoch  3, CIFAR-10 Batch 2:  validation accuracy 0.488199919462204 loss 1.3688788414001465\n",
      "Epoch  3, CIFAR-10 Batch 3:  validation accuracy 0.4991999566555023 loss 1.1896142959594727\n",
      "Epoch  3, CIFAR-10 Batch 4:  validation accuracy 0.5185999274253845 loss 1.3073158264160156\n",
      "Epoch  3, CIFAR-10 Batch 5:  validation accuracy 0.5333999395370483 loss 1.260598063468933\n",
      "Epoch  4, CIFAR-10 Batch 1:  validation accuracy 0.5361999273300171 loss 1.404661774635315\n",
      "Epoch  4, CIFAR-10 Batch 2:  validation accuracy 0.5291999578475952 loss 1.2857556343078613\n",
      "Epoch  4, CIFAR-10 Batch 3:  validation accuracy 0.5225999355316162 loss 1.1013737916946411\n",
      "Epoch  4, CIFAR-10 Batch 4:  validation accuracy 0.5477999448776245 loss 1.2094168663024902\n",
      "Epoch  4, CIFAR-10 Batch 5:  validation accuracy 0.5387998819351196 loss 1.1746900081634521\n",
      "Epoch  5, CIFAR-10 Batch 1:  validation accuracy 0.558199942111969 loss 1.2718298435211182\n",
      "Epoch  5, CIFAR-10 Batch 2:  validation accuracy 0.5443999767303467 loss 1.1978495121002197\n",
      "Epoch  5, CIFAR-10 Batch 3:  validation accuracy 0.5421999096870422 loss 1.042509913444519\n",
      "Epoch  5, CIFAR-10 Batch 4:  validation accuracy 0.5715999007225037 loss 1.1127711534500122\n",
      "Epoch  5, CIFAR-10 Batch 5:  validation accuracy 0.5587999224662781 loss 1.108129858970642\n",
      "Epoch  6, CIFAR-10 Batch 1:  validation accuracy 0.5743999481201172 loss 1.2017533779144287\n",
      "Epoch  6, CIFAR-10 Batch 2:  validation accuracy 0.5643998980522156 loss 1.104209303855896\n",
      "Epoch  6, CIFAR-10 Batch 3:  validation accuracy 0.5623999834060669 loss 0.9494259357452393\n",
      "Epoch  6, CIFAR-10 Batch 4:  validation accuracy 0.5801999568939209 loss 1.041006088256836\n",
      "Epoch  6, CIFAR-10 Batch 5:  validation accuracy 0.5713999271392822 loss 1.0341752767562866\n",
      "Epoch  7, CIFAR-10 Batch 1:  validation accuracy 0.5833998918533325 loss 1.0691018104553223\n",
      "Epoch  7, CIFAR-10 Batch 2:  validation accuracy 0.579599916934967 loss 1.0360685586929321\n",
      "Epoch  7, CIFAR-10 Batch 3:  validation accuracy 0.5745999217033386 loss 0.8763175010681152\n",
      "Epoch  7, CIFAR-10 Batch 4:  validation accuracy 0.5965999364852905 loss 0.9657827615737915\n",
      "Epoch  7, CIFAR-10 Batch 5:  validation accuracy 0.5848000049591064 loss 0.9719464778900146\n",
      "Epoch  8, CIFAR-10 Batch 1:  validation accuracy 0.5923998951911926 loss 0.9871395826339722\n",
      "Epoch  8, CIFAR-10 Batch 2:  validation accuracy 0.6037999391555786 loss 0.9519107341766357\n",
      "Epoch  8, CIFAR-10 Batch 3:  validation accuracy 0.5793999433517456 loss 0.8078433871269226\n",
      "Epoch  8, CIFAR-10 Batch 4:  validation accuracy 0.5983999371528625 loss 0.8984795808792114\n",
      "Epoch  8, CIFAR-10 Batch 5:  validation accuracy 0.5959998965263367 loss 0.8961132168769836\n",
      "Epoch  9, CIFAR-10 Batch 1:  validation accuracy 0.6103999018669128 loss 0.9175714254379272\n",
      "Epoch  9, CIFAR-10 Batch 2:  validation accuracy 0.6049999594688416 loss 0.9158325791358948\n",
      "Epoch  9, CIFAR-10 Batch 3:  validation accuracy 0.5925999283790588 loss 0.7771689891815186\n",
      "Epoch  9, CIFAR-10 Batch 4:  validation accuracy 0.6017999053001404 loss 0.8323163986206055\n",
      "Epoch  9, CIFAR-10 Batch 5:  validation accuracy 0.6037998795509338 loss 0.8095560669898987\n",
      "Epoch 10, CIFAR-10 Batch 1:  validation accuracy 0.6135998964309692 loss 0.8708713054656982\n",
      "Epoch 10, CIFAR-10 Batch 2:  validation accuracy 0.6111999154090881 loss 0.8654889464378357\n",
      "Epoch 10, CIFAR-10 Batch 3:  validation accuracy 0.6095998883247375 loss 0.6955146193504333\n",
      "Epoch 10, CIFAR-10 Batch 4:  validation accuracy 0.6113998889923096 loss 0.7907726764678955\n",
      "Epoch 10, CIFAR-10 Batch 5:  validation accuracy 0.6077999472618103 loss 0.7656943798065186\n",
      "Epoch 11, CIFAR-10 Batch 1:  validation accuracy 0.6237999200820923 loss 0.7990331649780273\n",
      "Epoch 11, CIFAR-10 Batch 2:  validation accuracy 0.6299998760223389 loss 0.7861729860305786\n",
      "Epoch 11, CIFAR-10 Batch 3:  validation accuracy 0.6107999682426453 loss 0.6672320365905762\n",
      "Epoch 11, CIFAR-10 Batch 4:  validation accuracy 0.623999834060669 loss 0.743416428565979\n",
      "Epoch 11, CIFAR-10 Batch 5:  validation accuracy 0.6231999397277832 loss 0.6985914707183838\n",
      "Epoch 12, CIFAR-10 Batch 1:  validation accuracy 0.6287998557090759 loss 0.7719783186912537\n",
      "Epoch 12, CIFAR-10 Batch 2:  validation accuracy 0.6307998895645142 loss 0.7324066162109375\n",
      "Epoch 12, CIFAR-10 Batch 3:  validation accuracy 0.6215999126434326 loss 0.6201363205909729\n",
      "Epoch 12, CIFAR-10 Batch 4:  validation accuracy 0.6343998908996582 loss 0.687390923500061\n",
      "Epoch 12, CIFAR-10 Batch 5:  validation accuracy 0.6301998496055603 loss 0.642895519733429\n",
      "Epoch 13, CIFAR-10 Batch 1:  validation accuracy 0.6317999362945557 loss 0.7348138093948364\n",
      "Epoch 13, CIFAR-10 Batch 2:  validation accuracy 0.6319998502731323 loss 0.6729632019996643\n",
      "Epoch 13, CIFAR-10 Batch 3:  validation accuracy 0.6245998740196228 loss 0.5660641193389893\n",
      "Epoch 13, CIFAR-10 Batch 4:  validation accuracy 0.6399998664855957 loss 0.6356819272041321\n",
      "Epoch 13, CIFAR-10 Batch 5:  validation accuracy 0.6347998976707458 loss 0.6060587167739868\n",
      "Epoch 14, CIFAR-10 Batch 1:  validation accuracy 0.635999858379364 loss 0.7066895961761475\n",
      "Epoch 14, CIFAR-10 Batch 2:  validation accuracy 0.6405998468399048 loss 0.639552891254425\n",
      "Epoch 14, CIFAR-10 Batch 3:  validation accuracy 0.6231999397277832 loss 0.5072183012962341\n",
      "Epoch 14, CIFAR-10 Batch 4:  validation accuracy 0.6441999077796936 loss 0.603521466255188\n",
      "Epoch 14, CIFAR-10 Batch 5:  validation accuracy 0.6415998935699463 loss 0.553484320640564\n",
      "Epoch 15, CIFAR-10 Batch 1:  validation accuracy 0.637999951839447 loss 0.6652418375015259\n",
      "Epoch 15, CIFAR-10 Batch 2:  validation accuracy 0.6393999457359314 loss 0.567238986492157\n",
      "Epoch 15, CIFAR-10 Batch 3:  validation accuracy 0.6417999267578125 loss 0.4816451370716095\n",
      "Epoch 15, CIFAR-10 Batch 4:  validation accuracy 0.650399923324585 loss 0.5950759053230286\n",
      "Epoch 15, CIFAR-10 Batch 5:  validation accuracy 0.6473998427391052 loss 0.5035113096237183\n",
      "Epoch 16, CIFAR-10 Batch 1:  validation accuracy 0.6387999057769775 loss 0.6494081020355225\n",
      "Epoch 16, CIFAR-10 Batch 2:  validation accuracy 0.640799880027771 loss 0.5477432608604431\n",
      "Epoch 16, CIFAR-10 Batch 3:  validation accuracy 0.6397998332977295 loss 0.46439671516418457\n",
      "Epoch 16, CIFAR-10 Batch 4:  validation accuracy 0.6515998840332031 loss 0.5321827530860901\n",
      "Epoch 16, CIFAR-10 Batch 5:  validation accuracy 0.6533998847007751 loss 0.4791609048843384\n",
      "Epoch 17, CIFAR-10 Batch 1:  validation accuracy 0.6363998651504517 loss 0.6393576860427856\n",
      "Epoch 17, CIFAR-10 Batch 2:  validation accuracy 0.6495999097824097 loss 0.5258616805076599\n",
      "Epoch 17, CIFAR-10 Batch 3:  validation accuracy 0.6449998617172241 loss 0.4332635998725891\n",
      "Epoch 17, CIFAR-10 Batch 4:  validation accuracy 0.6515998840332031 loss 0.5129128694534302\n",
      "Epoch 17, CIFAR-10 Batch 5:  validation accuracy 0.6489998698234558 loss 0.47245651483535767\n",
      "Epoch 18, CIFAR-10 Batch 1:  validation accuracy 0.6447998881340027 loss 0.5545058250427246\n",
      "Epoch 18, CIFAR-10 Batch 2:  validation accuracy 0.6555999517440796 loss 0.4584735333919525\n",
      "Epoch 18, CIFAR-10 Batch 3:  validation accuracy 0.6379998922348022 loss 0.4152498245239258\n",
      "Epoch 18, CIFAR-10 Batch 4:  validation accuracy 0.6593998670578003 loss 0.4500371515750885\n",
      "Epoch 18, CIFAR-10 Batch 5:  validation accuracy 0.6523998975753784 loss 0.4351446032524109\n"
     ]
    },
    {
     "name": "stdout",
     "output_type": "stream",
     "text": [
      "Epoch 19, CIFAR-10 Batch 1:  validation accuracy 0.6527999043464661 loss 0.527340292930603\n",
      "Epoch 19, CIFAR-10 Batch 2:  validation accuracy 0.6557998657226562 loss 0.43727925419807434\n",
      "Epoch 19, CIFAR-10 Batch 3:  validation accuracy 0.6425999402999878 loss 0.39137032628059387\n",
      "Epoch 19, CIFAR-10 Batch 4:  validation accuracy 0.6623998880386353 loss 0.44508010149002075\n",
      "Epoch 19, CIFAR-10 Batch 5:  validation accuracy 0.65559983253479 loss 0.4067508578300476\n",
      "Epoch 20, CIFAR-10 Batch 1:  validation accuracy 0.6535998582839966 loss 0.5536575317382812\n",
      "Epoch 20, CIFAR-10 Batch 2:  validation accuracy 0.6555998921394348 loss 0.4012376070022583\n",
      "Epoch 20, CIFAR-10 Batch 3:  validation accuracy 0.6477998495101929 loss 0.3640958070755005\n",
      "Epoch 20, CIFAR-10 Batch 4:  validation accuracy 0.6657998561859131 loss 0.405019611120224\n",
      "Epoch 20, CIFAR-10 Batch 5:  validation accuracy 0.6563999652862549 loss 0.38551393151283264\n",
      "Epoch 21, CIFAR-10 Batch 1:  validation accuracy 0.6597998738288879 loss 0.48615866899490356\n",
      "Epoch 21, CIFAR-10 Batch 2:  validation accuracy 0.6647998690605164 loss 0.4008113741874695\n",
      "Epoch 21, CIFAR-10 Batch 3:  validation accuracy 0.6383998394012451 loss 0.3566359877586365\n",
      "Epoch 21, CIFAR-10 Batch 4:  validation accuracy 0.6645998954772949 loss 0.36612874269485474\n",
      "Epoch 21, CIFAR-10 Batch 5:  validation accuracy 0.6665998697280884 loss 0.3578687012195587\n",
      "Epoch 22, CIFAR-10 Batch 1:  validation accuracy 0.6511998772621155 loss 0.47070252895355225\n",
      "Epoch 22, CIFAR-10 Batch 2:  validation accuracy 0.6607998609542847 loss 0.3724377751350403\n",
      "Epoch 22, CIFAR-10 Batch 3:  validation accuracy 0.65559983253479 loss 0.3273583650588989\n",
      "Epoch 22, CIFAR-10 Batch 4:  validation accuracy 0.667199969291687 loss 0.36406880617141724\n",
      "Epoch 22, CIFAR-10 Batch 5:  validation accuracy 0.6719999313354492 loss 0.33252257108688354\n",
      "Epoch 23, CIFAR-10 Batch 1:  validation accuracy 0.6599999070167542 loss 0.41069909930229187\n",
      "Epoch 23, CIFAR-10 Batch 2:  validation accuracy 0.6605998873710632 loss 0.3770771026611328\n",
      "Epoch 23, CIFAR-10 Batch 3:  validation accuracy 0.6553999185562134 loss 0.30428457260131836\n",
      "Epoch 23, CIFAR-10 Batch 4:  validation accuracy 0.6741998195648193 loss 0.31703412532806396\n",
      "Epoch 23, CIFAR-10 Batch 5:  validation accuracy 0.6737998723983765 loss 0.31236475706100464\n",
      "Epoch 24, CIFAR-10 Batch 1:  validation accuracy 0.6673998832702637 loss 0.36078259348869324\n",
      "Epoch 24, CIFAR-10 Batch 2:  validation accuracy 0.6593998670578003 loss 0.33923932909965515\n",
      "Epoch 24, CIFAR-10 Batch 3:  validation accuracy 0.6589998602867126 loss 0.30706772208213806\n",
      "Epoch 24, CIFAR-10 Batch 4:  validation accuracy 0.6743999719619751 loss 0.3080114424228668\n",
      "Epoch 24, CIFAR-10 Batch 5:  validation accuracy 0.6737998723983765 loss 0.2949099540710449\n",
      "Epoch 25, CIFAR-10 Batch 1:  validation accuracy 0.6665998697280884 loss 0.3562454879283905\n",
      "Epoch 25, CIFAR-10 Batch 2:  validation accuracy 0.6607998609542847 loss 0.3327485918998718\n",
      "Epoch 25, CIFAR-10 Batch 3:  validation accuracy 0.6591998934745789 loss 0.26941534876823425\n",
      "Epoch 25, CIFAR-10 Batch 4:  validation accuracy 0.6713998913764954 loss 0.29418542981147766\n",
      "Epoch 25, CIFAR-10 Batch 5:  validation accuracy 0.6689998507499695 loss 0.27997323870658875\n"
     ]
    }
   ],
   "source": [
    "\"\"\"\n",
    "DON'T MODIFY ANYTHING IN THIS CELL\n",
    "\"\"\"\n",
    "save_model_path = './image_classification'\n",
    "\n",
    "print('Training...')\n",
    "with tf.Session() as sess:\n",
    "    # Initializing the variables\n",
    "    sess.run(tf.global_variables_initializer())\n",
    "    \n",
    "    # Training cycle\n",
    "    for epoch in range(epochs):\n",
    "        # Loop over all batches\n",
    "        n_batches = 5\n",
    "        for batch_i in range(1, n_batches + 1):\n",
    "            for batch_features, batch_labels in helper.load_preprocess_training_batch(batch_i, batch_size):\n",
    "                train_neural_network(sess, optimizer, keep_probability, batch_features, batch_labels)\n",
    "            print('Epoch {:>2}, CIFAR-10 Batch {}:  '.format(epoch + 1, batch_i), end='')\n",
    "            print_stats(sess, batch_features, batch_labels, cost, accuracy)\n",
    "            \n",
    "    # Save Model\n",
    "    saver = tf.train.Saver()\n",
    "    save_path = saver.save(sess, save_model_path)"
   ]
  },
  {
   "cell_type": "markdown",
   "metadata": {},
   "source": [
    "# Checkpoint\n",
    "The model has been saved to disk.\n",
    "## Test Model\n",
    "Test your model against the test dataset.  This will be your final accuracy. You should have an accuracy greater than 50%. If you don't, keep tweaking the model architecture and parameters."
   ]
  },
  {
   "cell_type": "code",
   "execution_count": 22,
   "metadata": {},
   "outputs": [
    {
     "name": "stdout",
     "output_type": "stream",
     "text": [
      "INFO:tensorflow:Restoring parameters from ./image_classification\n",
      "Testing Accuracy: 0.66748046875\n",
      "\n"
     ]
    },
    {
     "data": {
      "image/png": "[encoded data removed]",
      "text/plain": [
       "<matplotlib.figure.Figure at 0x7fb62404eba8>"
      ]
     },
     "metadata": {
      "image/png": {
       "height": 319,
       "width": 355
      }
     },
     "output_type": "display_data"
    }
   ],
   "source": [
    "\"\"\"\n",
    "DON'T MODIFY ANYTHING IN THIS CELL\n",
    "\"\"\"\n",
    "%matplotlib inline\n",
    "%config InlineBackend.figure_format = 'retina'\n",
    "\n",
    "import tensorflow as tf\n",
    "import pickle\n",
    "import helper\n",
    "import random\n",
    "\n",
    "# Set batch size if not already set\n",
    "try:\n",
    "    if batch_size:\n",
    "        pass\n",
    "except NameError:\n",
    "    batch_size = 64\n",
    "\n",
    "save_model_path = './image_classification'\n",
    "n_samples = 4\n",
    "top_n_predictions = 3\n",
    "\n",
    "def test_model():\n",
    "    \"\"\"\n",
    "    Test the saved model against the test dataset\n",
    "    \"\"\"\n",
    "\n",
    "    test_features, test_labels = pickle.load(open('preprocess_test.p', mode='rb'))\n",
    "    loaded_graph = tf.Graph()\n",
    "\n",
    "    with tf.Session(graph=loaded_graph) as sess:\n",
    "        # Load model\n",
    "        loader = tf.train.import_meta_graph(save_model_path + '.meta')\n",
    "        loader.restore(sess, save_model_path)\n",
    "\n",
    "        # Get Tensors from loaded model\n",
    "        loaded_x = loaded_graph.get_tensor_by_name('x:0')\n",
    "        loaded_y = loaded_graph.get_tensor_by_name('y:0')\n",
    "        loaded_keep_prob = loaded_graph.get_tensor_by_name('keep_prob:0')\n",
    "        loaded_logits = loaded_graph.get_tensor_by_name('logits:0')\n",
    "        loaded_acc = loaded_graph.get_tensor_by_name('accuracy:0')\n",
    "        \n",
    "        # Get accuracy in batches for memory limitations\n",
    "        test_batch_acc_total = 0\n",
    "        test_batch_count = 0\n",
    "        \n",
    "        for test_feature_batch, test_label_batch in helper.batch_features_labels(test_features, test_labels, batch_size):\n",
    "            test_batch_acc_total += sess.run(\n",
    "                loaded_acc,\n",
    "                feed_dict={loaded_x: test_feature_batch, loaded_y: test_label_batch, loaded_keep_prob: 1.0})\n",
    "            test_batch_count += 1\n",
    "\n",
    "        print('Testing Accuracy: {}\\n'.format(test_batch_acc_total/test_batch_count))\n",
    "\n",
    "        # Print Random Samples\n",
    "        random_test_features, random_test_labels = tuple(zip(*random.sample(list(zip(test_features, test_labels)), n_samples)))\n",
    "        random_test_predictions = sess.run(\n",
    "            tf.nn.top_k(tf.nn.softmax(loaded_logits), top_n_predictions),\n",
    "            feed_dict={loaded_x: random_test_features, loaded_y: random_test_labels, loaded_keep_prob: 1.0})\n",
    "        helper.display_image_predictions(random_test_features, random_test_labels, random_test_predictions)\n",
    "\n",
    "\n",
    "test_model()"
   ]
  },
  {
   "cell_type": "markdown",
   "metadata": {},
   "source": [
    "## Why 50-80% Accuracy?\n",
    "You might be wondering why you can't get an accuracy any higher. First things first, 50% isn't bad for a simple CNN.  Pure guessing would get you 10% accuracy. However, you might notice people are getting scores [well above 80%](http://rodrigob.github.io/are_we_there_yet/build/classification_datasets_results.html#43494641522d3130).  That's because we haven't taught you all there is to know about neural networks. We still need to cover a few more techniques.\n",
    "## Submitting This Project\n",
    "When submitting this project, make sure to run all the cells before saving the notebook.  Save the notebook file as \"dlnd_image_classification.ipynb\" and save it as a HTML file under \"File\" -> \"Download as\".  Include the \"helper.py\" and \"problem_unittests.py\" files in your submission."
   ]
  }
 ],
 "metadata": {
  "kernelspec": {
   "display_name": "Python 3",
   "language": "python",
   "name": "python3"
  },
  "language_info": {
   "codemirror_mode": {
    "name": "ipython",
    "version": 3
   },
   "file_extension": ".py",
   "mimetype": "text/x-python",
   "name": "python",
   "nbconvert_exporter": "python",
   "pygments_lexer": "ipython3",
   "version": "3.5.3"
  }
 },
 "nbformat": 4,
 "nbformat_minor": 1
}
